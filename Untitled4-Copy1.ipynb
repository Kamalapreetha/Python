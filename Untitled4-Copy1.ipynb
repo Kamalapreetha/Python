{
 "cells": [
  {
   "cell_type": "code",
   "execution_count": 2,
   "metadata": {},
   "outputs": [
    {
     "ename": "ModuleNotFoundError",
     "evalue": "No module named 'docx2text'",
     "output_type": "error",
     "traceback": [
      "\u001b[1;31m---------------------------------------------------------------------------\u001b[0m",
      "\u001b[1;31mModuleNotFoundError\u001b[0m                       Traceback (most recent call last)",
      "\u001b[1;32m<ipython-input-2-1717a15b47f4>\u001b[0m in \u001b[0;36m<module>\u001b[1;34m\u001b[0m\n\u001b[1;32m----> 1\u001b[1;33m \u001b[1;32mimport\u001b[0m \u001b[0mdocx2text\u001b[0m\u001b[1;33m\u001b[0m\u001b[1;33m\u001b[0m\u001b[0m\n\u001b[0m",
      "\u001b[1;31mModuleNotFoundError\u001b[0m: No module named 'docx2text'"
     ]
    }
   ],
   "source": [
    "import docx2text"
   ]
  },
  {
   "cell_type": "code",
   "execution_count": 3,
   "metadata": {},
   "outputs": [
    {
     "name": "stdout",
     "output_type": "stream",
     "text": [
      "Requirement already satisfied: pyloco-task-docx2text==0.1.2 in d:\\anaconda\\lib\\site-packages (0.1.2)\n",
      "Requirement already satisfied: python-docx>=0.8.10 in d:\\anaconda\\lib\\site-packages (from pyloco-task-docx2text==0.1.2) (0.8.10)\n",
      "Requirement already satisfied: pyloco>=0.0.90 in d:\\anaconda\\lib\\site-packages (from pyloco-task-docx2text==0.1.2) (0.0.139)\n",
      "Requirement already satisfied: lxml>=2.3.2 in d:\\anaconda\\lib\\site-packages (from python-docx>=0.8.10->pyloco-task-docx2text==0.1.2) (4.5.0)\n",
      "Requirement already satisfied: ushlex in d:\\anaconda\\lib\\site-packages (from pyloco>=0.0.90->pyloco-task-docx2text==0.1.2) (0.99.1)\n",
      "Requirement already satisfied: SimpleWebSocketServer in d:\\anaconda\\lib\\site-packages (from pyloco>=0.0.90->pyloco-task-docx2text==0.1.2) (0.1.1)\n",
      "Requirement already satisfied: websocket-client in d:\\anaconda\\lib\\site-packages (from pyloco>=0.0.90->pyloco-task-docx2text==0.1.2) (0.57.0)\n",
      "Requirement already satisfied: twine in d:\\anaconda\\lib\\site-packages (from pyloco>=0.0.90->pyloco-task-docx2text==0.1.2) (3.2.0)\n",
      "Requirement already satisfied: typing in d:\\anaconda\\lib\\site-packages (from pyloco>=0.0.90->pyloco-task-docx2text==0.1.2) (3.7.4.3)\n",
      "Requirement already satisfied: six in d:\\anaconda\\lib\\site-packages (from websocket-client->pyloco>=0.0.90->pyloco-task-docx2text==0.1.2) (1.14.0)\n",
      "Requirement already satisfied: rfc3986>=1.4.0 in d:\\anaconda\\lib\\site-packages (from twine->pyloco>=0.0.90->pyloco-task-docx2text==0.1.2) (1.4.0)\n",
      "Requirement already satisfied: tqdm>=4.14 in d:\\anaconda\\lib\\site-packages (from twine->pyloco>=0.0.90->pyloco-task-docx2text==0.1.2) (4.42.1)\n",
      "Requirement already satisfied: colorama>=0.4.3 in d:\\anaconda\\lib\\site-packages (from twine->pyloco>=0.0.90->pyloco-task-docx2text==0.1.2) (0.4.3)\n",
      "Requirement already satisfied: importlib-metadata; python_version < \"3.8\" in d:\\anaconda\\lib\\site-packages (from twine->pyloco>=0.0.90->pyloco-task-docx2text==0.1.2) (1.5.0)\n",
      "Requirement already satisfied: requests-toolbelt!=0.9.0,>=0.8.0 in d:\\anaconda\\lib\\site-packages (from twine->pyloco>=0.0.90->pyloco-task-docx2text==0.1.2) (0.9.1)\n",
      "Requirement already satisfied: requests>=2.20 in d:\\anaconda\\lib\\site-packages (from twine->pyloco>=0.0.90->pyloco-task-docx2text==0.1.2) (2.22.0)\n",
      "Requirement already satisfied: pkginfo>=1.4.2 in d:\\anaconda\\lib\\site-packages (from twine->pyloco>=0.0.90->pyloco-task-docx2text==0.1.2) (1.5.0.1)\n",
      "Requirement already satisfied: readme-renderer>=21.0 in d:\\anaconda\\lib\\site-packages (from twine->pyloco>=0.0.90->pyloco-task-docx2text==0.1.2) (26.0)\n",
      "Requirement already satisfied: keyring>=15.1 in d:\\anaconda\\lib\\site-packages (from twine->pyloco>=0.0.90->pyloco-task-docx2text==0.1.2) (21.1.0)\n",
      "Requirement already satisfied: setuptools>=0.7.0 in d:\\anaconda\\lib\\site-packages (from twine->pyloco>=0.0.90->pyloco-task-docx2text==0.1.2) (45.2.0.post20200210)\n",
      "Requirement already satisfied: zipp>=0.5 in d:\\anaconda\\lib\\site-packages (from importlib-metadata; python_version < \"3.8\"->twine->pyloco>=0.0.90->pyloco-task-docx2text==0.1.2) (2.2.0)\n",
      "Requirement already satisfied: chardet<3.1.0,>=3.0.2 in d:\\anaconda\\lib\\site-packages (from requests>=2.20->twine->pyloco>=0.0.90->pyloco-task-docx2text==0.1.2) (3.0.4)\n",
      "Requirement already satisfied: certifi>=2017.4.17 in d:\\anaconda\\lib\\site-packages (from requests>=2.20->twine->pyloco>=0.0.90->pyloco-task-docx2text==0.1.2) (2019.11.28)\n",
      "Requirement already satisfied: idna<2.9,>=2.5 in d:\\anaconda\\lib\\site-packages (from requests>=2.20->twine->pyloco>=0.0.90->pyloco-task-docx2text==0.1.2) (2.8)\n",
      "Requirement already satisfied: urllib3!=1.25.0,!=1.25.1,<1.26,>=1.21.1 in d:\\anaconda\\lib\\site-packages (from requests>=2.20->twine->pyloco>=0.0.90->pyloco-task-docx2text==0.1.2) (1.25.8)\n",
      "Requirement already satisfied: bleach>=2.1.0 in d:\\anaconda\\lib\\site-packages (from readme-renderer>=21.0->twine->pyloco>=0.0.90->pyloco-task-docx2text==0.1.2) (3.1.0)\n",
      "Requirement already satisfied: Pygments>=2.5.1 in d:\\anaconda\\lib\\site-packages (from readme-renderer>=21.0->twine->pyloco>=0.0.90->pyloco-task-docx2text==0.1.2) (2.5.2)\n",
      "Requirement already satisfied: docutils>=0.13.1 in d:\\anaconda\\lib\\site-packages (from readme-renderer>=21.0->twine->pyloco>=0.0.90->pyloco-task-docx2text==0.1.2) (0.16)\n",
      "Requirement already satisfied: pywin32-ctypes!=0.1.0,!=0.1.1; sys_platform == \"win32\" in d:\\anaconda\\lib\\site-packages (from keyring>=15.1->twine->pyloco>=0.0.90->pyloco-task-docx2text==0.1.2) (0.2.0)\n",
      "Requirement already satisfied: webencodings in d:\\anaconda\\lib\\site-packages (from bleach>=2.1.0->readme-renderer>=21.0->twine->pyloco>=0.0.90->pyloco-task-docx2text==0.1.2) (0.5.1)\n",
      "Note: you may need to restart the kernel to use updated packages.\n"
     ]
    }
   ],
   "source": [
    "pip install pyloco-task-docx2text==0.1.2"
   ]
  },
  {
   "cell_type": "code",
   "execution_count": null,
   "metadata": {},
   "outputs": [],
   "source": []
  }
 ],
 "metadata": {
  "kernelspec": {
   "display_name": "Python 3",
   "language": "python",
   "name": "python3"
  },
  "language_info": {
   "codemirror_mode": {
    "name": "ipython",
    "version": 3
   },
   "file_extension": ".py",
   "mimetype": "text/x-python",
   "name": "python",
   "nbconvert_exporter": "python",
   "pygments_lexer": "ipython3",
   "version": "3.7.6"
  }
 },
 "nbformat": 4,
 "nbformat_minor": 4
}
