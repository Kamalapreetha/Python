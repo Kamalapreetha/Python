{
 "cells": [
  {
   "cell_type": "markdown",
   "metadata": {},
   "source": [
    "# Unsupervised Learning"
   ]
  },
  {
   "cell_type": "code",
   "execution_count": 3,
   "metadata": {},
   "outputs": [],
   "source": [
    "# K means clustering -Flat clustering"
   ]
  },
  {
   "cell_type": "code",
   "execution_count": 5,
   "metadata": {},
   "outputs": [],
   "source": [
    "import pandas as pd\n",
    "import numpy as np\n",
    "import matplotlib.pyplot as plp\n",
    "%matplotlib inline\n",
    "from sklearn.cluster import KMeans"
   ]
  },
  {
   "cell_type": "code",
   "execution_count": 6,
   "metadata": {},
   "outputs": [],
   "source": [
    "x=-2*np.random.rand(100,2)"
   ]
  },
  {
   "cell_type": "code",
   "execution_count": 7,
   "metadata": {},
   "outputs": [
    {
     "data": {
      "text/plain": [
       "array([[-0.54967078, -1.34569106],\n",
       "       [-0.5390034 , -0.51554802],\n",
       "       [-0.2154024 , -1.31879968],\n",
       "       [-1.83924584, -0.6946451 ],\n",
       "       [-0.33262267, -0.14495385],\n",
       "       [-1.81478842, -0.64107541],\n",
       "       [-0.31317471, -0.06109436],\n",
       "       [-0.89436919, -0.32925343],\n",
       "       [-1.02584871, -1.73585498],\n",
       "       [-0.91429956, -0.34691393],\n",
       "       [-0.70469595, -0.2111978 ],\n",
       "       [-0.26781115, -1.7523562 ],\n",
       "       [-1.16213956, -1.8595386 ],\n",
       "       [-0.16640238, -0.50241867],\n",
       "       [-1.47855756, -0.18835498],\n",
       "       [-0.69348383, -0.77696378],\n",
       "       [-0.28520152, -0.88264165],\n",
       "       [-0.32392622, -1.65465656],\n",
       "       [-1.94269417, -0.24800546],\n",
       "       [-0.83802804, -1.38814602],\n",
       "       [-1.8284572 , -0.50366327],\n",
       "       [-1.8824518 , -0.58269949],\n",
       "       [-0.66634602, -1.87337434],\n",
       "       [-1.49627985, -1.47946036],\n",
       "       [-1.67201666, -1.18903728],\n",
       "       [-1.24777659, -0.90902273],\n",
       "       [-1.7042033 , -0.75141117],\n",
       "       [-1.15691401, -0.41163259],\n",
       "       [-1.82982054, -1.92554286],\n",
       "       [-1.12806446, -1.88129739],\n",
       "       [-1.87385462, -0.23862408],\n",
       "       [-1.95696089, -1.38446342],\n",
       "       [-0.96896986, -0.23387905],\n",
       "       [-0.01935267, -1.40880756],\n",
       "       [-0.32195176, -0.56645508],\n",
       "       [-1.63735471, -0.76501878],\n",
       "       [-1.78317473, -0.50412044],\n",
       "       [-1.87763936, -1.32113225],\n",
       "       [-1.13681945, -0.46167146],\n",
       "       [-0.70820808, -0.66484076],\n",
       "       [-1.9628236 , -1.92871332],\n",
       "       [-1.99836395, -1.19341328],\n",
       "       [-1.43311541, -0.69312957],\n",
       "       [-0.49029557, -1.30893966],\n",
       "       [-1.74373203, -0.47223806],\n",
       "       [-1.13807234, -0.21475063],\n",
       "       [-1.29432646, -1.45420421],\n",
       "       [-0.63770109, -0.28699374],\n",
       "       [-1.83453615, -0.73224276],\n",
       "       [-1.72876969, -0.5381464 ],\n",
       "       [-0.41170715, -0.82438118],\n",
       "       [-0.58641912, -1.39598519],\n",
       "       [-1.13115735, -0.88667999],\n",
       "       [-0.74145739, -0.16822503],\n",
       "       [-1.40685669, -1.85825529],\n",
       "       [-1.68169406, -0.97872931],\n",
       "       [-1.9251543 , -0.71406061],\n",
       "       [-0.13145608, -1.61538556],\n",
       "       [-0.17575801, -1.70764113],\n",
       "       [-0.26606802, -1.7654679 ],\n",
       "       [-0.72667557, -1.05067529],\n",
       "       [-1.17185291, -1.09640833],\n",
       "       [-1.1662852 , -1.37954719],\n",
       "       [-0.21767102, -0.77443781],\n",
       "       [-0.36130155, -0.77635237],\n",
       "       [-0.1046251 , -0.33661904],\n",
       "       [-1.28356876, -1.98273838],\n",
       "       [-0.51562786, -0.37054755],\n",
       "       [-0.13135355, -0.10056039],\n",
       "       [-0.87075745, -1.63448324],\n",
       "       [-0.12701669, -0.15552803],\n",
       "       [-0.58390573, -1.42980803],\n",
       "       [-0.94528506, -0.69296509],\n",
       "       [-1.9894902 , -0.30740994],\n",
       "       [-0.14042437, -1.05164306],\n",
       "       [-0.08128541, -0.15424974],\n",
       "       [-0.30240764, -1.57982235],\n",
       "       [-0.51325052, -1.60874241],\n",
       "       [-1.80203342, -0.78613107],\n",
       "       [-0.85051443, -0.4746762 ],\n",
       "       [-1.81965056, -1.59073793],\n",
       "       [-0.04006278, -1.4113906 ],\n",
       "       [-0.78210532, -0.63035577],\n",
       "       [-0.6394267 , -0.84474579],\n",
       "       [-1.0376978 , -1.67845333],\n",
       "       [-1.35676822, -1.16136974],\n",
       "       [-0.95426715, -0.05064445],\n",
       "       [-0.37110099, -1.78116827],\n",
       "       [-0.68997701, -1.69714017],\n",
       "       [-0.69497958, -1.33841484],\n",
       "       [-1.42875032, -0.98282228],\n",
       "       [-0.90060571, -0.46656695],\n",
       "       [-1.35220319, -0.18082116],\n",
       "       [-1.86637546, -1.31955338],\n",
       "       [-0.74688579, -1.27044428],\n",
       "       [-0.70826285, -0.4713527 ],\n",
       "       [-1.49382731, -0.42406041],\n",
       "       [-0.7545744 , -0.19285776],\n",
       "       [-1.68668472, -1.71424498],\n",
       "       [-1.82927889, -0.8148824 ]])"
      ]
     },
     "execution_count": 7,
     "metadata": {},
     "output_type": "execute_result"
    }
   ],
   "source": [
    "x"
   ]
  },
  {
   "cell_type": "code",
   "execution_count": 8,
   "metadata": {},
   "outputs": [],
   "source": [
    "x2=1+2*np.random.rand(50,2)"
   ]
  },
  {
   "cell_type": "code",
   "execution_count": 9,
   "metadata": {},
   "outputs": [
    {
     "data": {
      "text/plain": [
       "array([[1.63948546, 2.3035319 ],\n",
       "       [1.41015701, 2.30427912],\n",
       "       [2.84450264, 2.72162438],\n",
       "       [2.73712938, 2.82319835],\n",
       "       [2.1487872 , 1.249613  ],\n",
       "       [2.93527929, 2.94282167],\n",
       "       [1.37103073, 1.64171658],\n",
       "       [1.35443734, 2.58705895],\n",
       "       [2.30432143, 2.6926464 ],\n",
       "       [2.7801491 , 1.63220931],\n",
       "       [2.38348229, 2.35326788],\n",
       "       [2.81424633, 1.30963269],\n",
       "       [2.88683166, 2.2304976 ],\n",
       "       [1.79122896, 1.64205243],\n",
       "       [1.25923392, 1.28572141],\n",
       "       [2.1967184 , 2.19252662],\n",
       "       [1.32394451, 1.57411817],\n",
       "       [1.63614952, 2.53420319],\n",
       "       [2.23351355, 1.16749645],\n",
       "       [2.70795517, 1.26566419],\n",
       "       [2.97884801, 1.23412162],\n",
       "       [2.50409684, 2.23665043],\n",
       "       [2.01650035, 1.50842585],\n",
       "       [1.07435585, 2.61868721],\n",
       "       [1.04366664, 1.24250277],\n",
       "       [1.3237882 , 2.97124809],\n",
       "       [1.90511697, 1.82259756],\n",
       "       [2.93693383, 1.32501786],\n",
       "       [1.91706692, 2.11365822],\n",
       "       [1.42830636, 2.34071176],\n",
       "       [2.0047023 , 2.76448058],\n",
       "       [2.37938648, 2.95498997],\n",
       "       [2.82095714, 2.90046151],\n",
       "       [2.43247701, 2.91410164],\n",
       "       [2.57242706, 2.78817999],\n",
       "       [1.53545251, 1.19419901],\n",
       "       [2.24046063, 2.53291055],\n",
       "       [1.71238664, 1.36773782],\n",
       "       [1.40097154, 2.7213453 ],\n",
       "       [1.09220496, 1.079226  ],\n",
       "       [1.51554636, 2.51089912],\n",
       "       [1.78515184, 1.22861022],\n",
       "       [1.03773625, 2.29070671],\n",
       "       [1.05091184, 1.34546552],\n",
       "       [1.92879274, 2.418932  ],\n",
       "       [2.96494918, 2.74280166],\n",
       "       [2.89640421, 1.12768338],\n",
       "       [2.05563685, 2.46753963],\n",
       "       [1.27657409, 1.8139311 ],\n",
       "       [1.67189665, 1.18311201]])"
      ]
     },
     "execution_count": 9,
     "metadata": {},
     "output_type": "execute_result"
    }
   ],
   "source": [
    "x2"
   ]
  },
  {
   "cell_type": "code",
   "execution_count": 17,
   "metadata": {},
   "outputs": [],
   "source": [
    "x[50:100,:]=x2\n",
    "# X2 values are being placed in x from 50th to 100"
   ]
  },
  {
   "cell_type": "code",
   "execution_count": 15,
   "metadata": {},
   "outputs": [
    {
     "data": {
      "text/plain": [
       "array([[-0.54967078, -1.34569106],\n",
       "       [-0.5390034 , -0.51554802],\n",
       "       [-0.2154024 , -1.31879968],\n",
       "       [-1.83924584, -0.6946451 ],\n",
       "       [-0.33262267, -0.14495385],\n",
       "       [-1.81478842, -0.64107541],\n",
       "       [-0.31317471, -0.06109436],\n",
       "       [-0.89436919, -0.32925343],\n",
       "       [-1.02584871, -1.73585498],\n",
       "       [-0.91429956, -0.34691393],\n",
       "       [-0.70469595, -0.2111978 ],\n",
       "       [-0.26781115, -1.7523562 ],\n",
       "       [-1.16213956, -1.8595386 ],\n",
       "       [-0.16640238, -0.50241867],\n",
       "       [-1.47855756, -0.18835498],\n",
       "       [-0.69348383, -0.77696378],\n",
       "       [-0.28520152, -0.88264165],\n",
       "       [-0.32392622, -1.65465656],\n",
       "       [-1.94269417, -0.24800546],\n",
       "       [-0.83802804, -1.38814602],\n",
       "       [-1.8284572 , -0.50366327],\n",
       "       [-1.8824518 , -0.58269949],\n",
       "       [-0.66634602, -1.87337434],\n",
       "       [-1.49627985, -1.47946036],\n",
       "       [-1.67201666, -1.18903728],\n",
       "       [-1.24777659, -0.90902273],\n",
       "       [-1.7042033 , -0.75141117],\n",
       "       [-1.15691401, -0.41163259],\n",
       "       [-1.82982054, -1.92554286],\n",
       "       [-1.12806446, -1.88129739],\n",
       "       [-1.87385462, -0.23862408],\n",
       "       [-1.95696089, -1.38446342],\n",
       "       [-0.96896986, -0.23387905],\n",
       "       [-0.01935267, -1.40880756],\n",
       "       [-0.32195176, -0.56645508],\n",
       "       [-1.63735471, -0.76501878],\n",
       "       [-1.78317473, -0.50412044],\n",
       "       [-1.87763936, -1.32113225],\n",
       "       [-1.13681945, -0.46167146],\n",
       "       [-0.70820808, -0.66484076],\n",
       "       [-1.9628236 , -1.92871332],\n",
       "       [-1.99836395, -1.19341328],\n",
       "       [-1.43311541, -0.69312957],\n",
       "       [-0.49029557, -1.30893966],\n",
       "       [-1.74373203, -0.47223806],\n",
       "       [-1.13807234, -0.21475063],\n",
       "       [-1.29432646, -1.45420421],\n",
       "       [-0.63770109, -0.28699374],\n",
       "       [-1.83453615, -0.73224276],\n",
       "       [-1.72876969, -0.5381464 ],\n",
       "       [ 1.63948546,  2.3035319 ],\n",
       "       [ 1.41015701,  2.30427912],\n",
       "       [ 2.84450264,  2.72162438],\n",
       "       [ 2.73712938,  2.82319835],\n",
       "       [ 2.1487872 ,  1.249613  ],\n",
       "       [ 2.93527929,  2.94282167],\n",
       "       [ 1.37103073,  1.64171658],\n",
       "       [ 1.35443734,  2.58705895],\n",
       "       [ 2.30432143,  2.6926464 ],\n",
       "       [ 2.7801491 ,  1.63220931],\n",
       "       [ 2.38348229,  2.35326788],\n",
       "       [ 2.81424633,  1.30963269],\n",
       "       [ 2.88683166,  2.2304976 ],\n",
       "       [ 1.79122896,  1.64205243],\n",
       "       [ 1.25923392,  1.28572141],\n",
       "       [ 2.1967184 ,  2.19252662],\n",
       "       [ 1.32394451,  1.57411817],\n",
       "       [ 1.63614952,  2.53420319],\n",
       "       [ 2.23351355,  1.16749645],\n",
       "       [ 2.70795517,  1.26566419],\n",
       "       [ 2.97884801,  1.23412162],\n",
       "       [ 2.50409684,  2.23665043],\n",
       "       [ 2.01650035,  1.50842585],\n",
       "       [ 1.07435585,  2.61868721],\n",
       "       [ 1.04366664,  1.24250277],\n",
       "       [ 1.3237882 ,  2.97124809],\n",
       "       [ 1.90511697,  1.82259756],\n",
       "       [ 2.93693383,  1.32501786],\n",
       "       [ 1.91706692,  2.11365822],\n",
       "       [ 1.42830636,  2.34071176],\n",
       "       [ 2.0047023 ,  2.76448058],\n",
       "       [ 2.37938648,  2.95498997],\n",
       "       [ 2.82095714,  2.90046151],\n",
       "       [ 2.43247701,  2.91410164],\n",
       "       [ 2.57242706,  2.78817999],\n",
       "       [ 1.53545251,  1.19419901],\n",
       "       [ 2.24046063,  2.53291055],\n",
       "       [ 1.71238664,  1.36773782],\n",
       "       [ 1.40097154,  2.7213453 ],\n",
       "       [ 1.09220496,  1.079226  ],\n",
       "       [ 1.51554636,  2.51089912],\n",
       "       [ 1.78515184,  1.22861022],\n",
       "       [ 1.03773625,  2.29070671],\n",
       "       [ 1.05091184,  1.34546552],\n",
       "       [ 1.92879274,  2.418932  ],\n",
       "       [ 2.96494918,  2.74280166],\n",
       "       [ 2.89640421,  1.12768338],\n",
       "       [ 2.05563685,  2.46753963],\n",
       "       [ 1.27657409,  1.8139311 ],\n",
       "       [ 1.67189665,  1.18311201]])"
      ]
     },
     "execution_count": 15,
     "metadata": {},
     "output_type": "execute_result"
    }
   ],
   "source": [
    "x"
   ]
  },
  {
   "cell_type": "code",
   "execution_count": 16,
   "metadata": {},
   "outputs": [
    {
     "data": {
      "image/png": "[encoded data removed]",
      "text/plain": [
       "<Figure size 432x288 with 1 Axes>"
      ]
     },
     "metadata": {
      "needs_background": "light"
     },
     "output_type": "display_data"
    }
   ],
   "source": [
    "plp.scatter(x[:,0],x[:,1],s=50,c='r')\n",
    "plp.show()"
   ]
  },
  {
   "cell_type": "code",
   "execution_count": 18,
   "metadata": {},
   "outputs": [],
   "source": [
    "kmeans=KMeans(n_clusters=2)"
   ]
  },
  {
   "cell_type": "code",
   "execution_count": 19,
   "metadata": {},
   "outputs": [
    {
     "data": {
      "text/plain": [
       "KMeans(algorithm='auto', copy_x=True, init='k-means++', max_iter=300,\n",
       "       n_clusters=2, n_init=10, n_jobs=None, precompute_distances='auto',\n",
       "       random_state=None, tol=0.0001, verbose=0)"
      ]
     },
     "execution_count": 19,
     "metadata": {},
     "output_type": "execute_result"
    }
   ],
   "source": [
    "kmeans.fit(x)"
   ]
  },
  {
   "cell_type": "code",
   "execution_count": 20,
   "metadata": {},
   "outputs": [
    {
     "data": {
      "text/plain": [
       "array([[-1.14919438, -0.88954071],\n",
       "       [ 2.0052458 ,  2.04429631]])"
      ]
     },
     "execution_count": 20,
     "metadata": {},
     "output_type": "execute_result"
    }
   ],
   "source": [
    "kmeans.cluster_centers_"
   ]
  },
  {
   "cell_type": "code",
   "execution_count": 22,
   "metadata": {},
   "outputs": [
    {
     "data": {
      "image/png": "[encoded data removed]",
      "text/plain": [
       "<Figure size 432x288 with 1 Axes>"
      ]
     },
     "metadata": {
      "needs_background": "light"
     },
     "output_type": "display_data"
    }
   ],
   "source": [
    "plp.scatter(x[:,0],x[:,1],s=50,c='r')\n",
    "plp.scatter(-1.14919438, -0.88954071,s=250,c='b',marker='s')\n",
    "plp.scatter(2.0052458 ,  2.04429631,s=250,c='k',marker='s')\n",
    "plp.show()"
   ]
  },
  {
   "cell_type": "code",
   "execution_count": 23,
   "metadata": {},
   "outputs": [
    {
     "data": {
      "text/plain": [
       "array([0, 0, 0, 0, 0, 0, 0, 0, 0, 0, 0, 0, 0, 0, 0, 0, 0, 0, 0, 0, 0, 0,\n",
       "       0, 0, 0, 0, 0, 0, 0, 0, 0, 0, 0, 0, 0, 0, 0, 0, 0, 0, 0, 0, 0, 0,\n",
       "       0, 0, 0, 0, 0, 0, 1, 1, 1, 1, 1, 1, 1, 1, 1, 1, 1, 1, 1, 1, 1, 1,\n",
       "       1, 1, 1, 1, 1, 1, 1, 1, 1, 1, 1, 1, 1, 1, 1, 1, 1, 1, 1, 1, 1, 1,\n",
       "       1, 1, 1, 1, 1, 1, 1, 1, 1, 1, 1, 1])"
      ]
     },
     "execution_count": 23,
     "metadata": {},
     "output_type": "execute_result"
    }
   ],
   "source": [
    "kmeans.labels_"
   ]
  },
  {
   "cell_type": "code",
   "execution_count": 32,
   "metadata": {},
   "outputs": [],
   "source": [
    "sampletest=np.array([-56,-4.79])"
   ]
  },
  {
   "cell_type": "code",
   "execution_count": 33,
   "metadata": {},
   "outputs": [],
   "source": [
    "resize=sampletest.reshape(1,-1)"
   ]
  },
  {
   "cell_type": "code",
   "execution_count": 34,
   "metadata": {},
   "outputs": [
    {
     "data": {
      "text/plain": [
       "array([0])"
      ]
     },
     "execution_count": 34,
     "metadata": {},
     "output_type": "execute_result"
    }
   ],
   "source": [
    "kmeans.predict(resize)"
   ]
  },
  {
   "cell_type": "code",
   "execution_count": 35,
   "metadata": {},
   "outputs": [],
   "source": [
    "sampletest1=np.array([56,0.79])"
   ]
  },
  {
   "cell_type": "code",
   "execution_count": 37,
   "metadata": {},
   "outputs": [],
   "source": [
    "resize1=sampletest1.reshape(1,-1)"
   ]
  },
  {
   "cell_type": "code",
   "execution_count": 38,
   "metadata": {},
   "outputs": [
    {
     "data": {
      "text/plain": [
       "array([1])"
      ]
     },
     "execution_count": 38,
     "metadata": {},
     "output_type": "execute_result"
    }
   ],
   "source": [
    "kmeans.predict(resize1)"
   ]
  },
  {
   "cell_type": "code",
   "execution_count": null,
   "metadata": {},
   "outputs": [],
   "source": []
  }
 ],
 "metadata": {
  "kernelspec": {
   "display_name": "Python 3",
   "language": "python",
   "name": "python3"
  },
  "language_info": {
   "codemirror_mode": {
    "name": "ipython",
    "version": 3
   },
   "file_extension": ".py",
   "mimetype": "text/x-python",
   "name": "python",
   "nbconvert_exporter": "python",
   "pygments_lexer": "ipython3",
   "version": "3.7.6"
  }
 },
 "nbformat": 4,
 "nbformat_minor": 4
}
